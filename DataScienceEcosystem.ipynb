{
 "cells": [
  {
   "cell_type": "markdown",
   "id": "8a9a8aee-9a94-4e73-b06c-b1abe8eba9c2",
   "metadata": {},
   "source": [
    "# Data Science Tools and Ecosystem"
   ]
  },
  {
   "cell_type": "markdown",
   "id": "0dc3dedf-5c3b-43fa-a3b5-4c4588ec083f",
   "metadata": {},
   "source": [
    "## Introduction\n",
    "In this notebook, Data Science Tools and Ecosystem are summarized."
   ]
  },
  {
   "cell_type": "markdown",
   "id": "5a7c88f3-69a5-4233-bcf8-2594de4c3a74",
   "metadata": {},
   "source": [
    "## Data Science Languages\n",
    "Some of the popular languages that Data Scientists use are:\n",
    "1. Python\n",
    "2. R\n",
    "3. SQL"
   ]
  },
  {
   "cell_type": "markdown",
   "id": "e7b459e8-ee81-4ee9-9677-73ef2a41a243",
   "metadata": {},
   "source": [
    "## Data Science Libraries\n",
    "Some of the commonly used libraries used by Data Scientists include:\n",
    "1. Pandas\n",
    "2. NumPy\n",
    "3. Scikit-learn"
   ]
  },
  {
   "cell_type": "markdown",
   "id": "84c981f6-d9bc-490b-90c7-b8cf0a0b40d7",
   "metadata": {},
   "source": [
    "## Data Science Tools\n",
    "\n",
    "| Data Science Tools |\n",
    "|--------------------|\n",
    "| JupyterLab         |\n",
    "| GitHub             |\n",
    "| Docker             |\n"
   ]
  },
  {
   "cell_type": "markdown",
   "id": "431764c3-b20c-4af1-a201-0cacd226bda6",
   "metadata": {},
   "source": [
    "### Arithmetic Expression Examples\n",
    "Below are a few examples of evaluating arithmetic expressions in Python."
   ]
  },
  {
   "cell_type": "code",
   "execution_count": 7,
   "id": "620b6248-8908-4363-995a-7a551c02cb06",
   "metadata": {},
   "outputs": [
    {
     "data": {
      "text/plain": [
       "17"
      ]
     },
     "execution_count": 7,
     "metadata": {},
     "output_type": "execute_result"
    }
   ],
   "source": [
    "# This is a simple arithmetic expression to multiply then add integers\n",
    "a = 3\n",
    "b = 4\n",
    "c = 5\n",
    "result = (a * b) + c\n",
    "result"
   ]
  },
  {
   "cell_type": "code",
   "execution_count": 9,
   "id": "38fbc4d6-b135-4421-aa57-b20b8dc5e3a5",
   "metadata": {},
   "outputs": [
    {
     "data": {
      "text/plain": [
       "3.3333333333333335"
      ]
     },
     "execution_count": 9,
     "metadata": {},
     "output_type": "execute_result"
    }
   ],
   "source": [
    "# This will convert 200 minutes to hours by dividing by 60\n",
    "minutes = 200\n",
    "hours = minutes / 60\n",
    "hours"
   ]
  },
  {
   "cell_type": "markdown",
   "id": "0873f6d6-a3a7-44be-90f8-7056a47cbb8d",
   "metadata": {},
   "source": [
    "## Objectives\n",
    "**Objectives:**\n",
    "- List popular languages for Data Science.\n",
    "- Identify commonly used libraries in Data Science.\n",
    "- Demonstrate basic arithmetic operations.\n",
    "- Convert minutes into hours."
   ]
  },
  {
   "cell_type": "markdown",
   "id": "de8649e3-04e2-4833-8897-b95c2a0d7cc2",
   "metadata": {},
   "source": [
    "## Author\n",
    "Sameer Phalak"
   ]
  },
  {
   "cell_type": "code",
   "execution_count": null,
   "id": "41b2e9fb-e82c-44ee-981f-bfe03a2ff7e4",
   "metadata": {},
   "outputs": [],
   "source": []
  }
 ],
 "metadata": {
  "kernelspec": {
   "display_name": "Python 3 (ipykernel)",
   "language": "python",
   "name": "python3"
  },
  "language_info": {
   "codemirror_mode": {
    "name": "ipython",
    "version": 3
   },
   "file_extension": ".py",
   "mimetype": "text/x-python",
   "name": "python",
   "nbconvert_exporter": "python",
   "pygments_lexer": "ipython3",
   "version": "3.11.7"
  }
 },
 "nbformat": 4,
 "nbformat_minor": 5
}
